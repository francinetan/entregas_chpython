{
 "cells": [
  {
   "cell_type": "code",
   "execution_count": 4,
   "metadata": {},
   "outputs": [],
   "source": [
    "import requests\n",
    "import pandas as pd\n",
    "from plyer import notification\n",
    "from datetime import datetime\n",
    "import sqlite3"
   ]
  },
  {
   "cell_type": "code",
   "execution_count": 5,
   "metadata": {},
   "outputs": [],
   "source": [
    "def extracao(url,base):\n",
    "    data = str(datetime.now())\n",
    "    req = requests.get(url)\n",
    "    status_code = req.status_code\n",
    "    data_json = req.json()\n",
    "    if status_code == 200:\n",
    "        df = pd.DataFrame(data_json)\n",
    "        message = 'Requisição realizada com sucesso'\n",
    "        notification.notify(\n",
    "        title=f'ATENÇÃO: {message}'\n",
    "        , message = message\n",
    "        , app_name='alerta'\n",
    "        , timeout=10)\n",
    "\n",
    "        return(df)\n",
    "        \n",
    "    elif status_code >= 400:\n",
    "        message = 'Erro na requisição'\n",
    "    elif status_code == 200:\n",
    "        message = 'Requisição concluída com sucesso'\n",
    "    else:\n",
    "        print ('Outros tipos de erro')\n",
    "    \n",
    "    notification.notify(\n",
    "        title=f'ATENÇÃO: {message}'\n",
    "        , message = str('Carregamento da base %s. \\n %s' % (base,data))\n",
    "        , app_name=''\n",
    "        , timeout=10)"
   ]
  },
  {
   "cell_type": "code",
   "execution_count": 6,
   "metadata": {},
   "outputs": [],
   "source": [
    "base_municipios = extracao('https://brasilapi.com.br/api/ibge/municipios/v1/sp?providers=dados-abertos-br,gov,wikipedia','base_municipios')"
   ]
  },
  {
   "cell_type": "code",
   "execution_count": 4,
   "metadata": {},
   "outputs": [
    {
     "data": {
      "text/html": [
       "<div>\n",
       "<style scoped>\n",
       "    .dataframe tbody tr th:only-of-type {\n",
       "        vertical-align: middle;\n",
       "    }\n",
       "\n",
       "    .dataframe tbody tr th {\n",
       "        vertical-align: top;\n",
       "    }\n",
       "\n",
       "    .dataframe thead th {\n",
       "        text-align: right;\n",
       "    }\n",
       "</style>\n",
       "<table border=\"1\" class=\"dataframe\">\n",
       "  <thead>\n",
       "    <tr style=\"text-align: right;\">\n",
       "      <th></th>\n",
       "      <th>nome</th>\n",
       "      <th>codigo_ibge</th>\n",
       "    </tr>\n",
       "  </thead>\n",
       "  <tbody>\n",
       "    <tr>\n",
       "      <th>0</th>\n",
       "      <td>ADAMANTINA</td>\n",
       "      <td>3500105</td>\n",
       "    </tr>\n",
       "    <tr>\n",
       "      <th>1</th>\n",
       "      <td>ADOLFO</td>\n",
       "      <td>3500204</td>\n",
       "    </tr>\n",
       "    <tr>\n",
       "      <th>2</th>\n",
       "      <td>AGUAI</td>\n",
       "      <td>3500303</td>\n",
       "    </tr>\n",
       "    <tr>\n",
       "      <th>3</th>\n",
       "      <td>AGUAS DA PRATA</td>\n",
       "      <td>3500402</td>\n",
       "    </tr>\n",
       "    <tr>\n",
       "      <th>4</th>\n",
       "      <td>AGUAS DE LINDOIA</td>\n",
       "      <td>3500501</td>\n",
       "    </tr>\n",
       "  </tbody>\n",
       "</table>\n",
       "</div>"
      ],
      "text/plain": [
       "               nome codigo_ibge\n",
       "0        ADAMANTINA     3500105\n",
       "1            ADOLFO     3500204\n",
       "2             AGUAI     3500303\n",
       "3    AGUAS DA PRATA     3500402\n",
       "4  AGUAS DE LINDOIA     3500501"
      ]
     },
     "execution_count": 4,
     "metadata": {},
     "output_type": "execute_result"
    }
   ],
   "source": [
    "base_municipios.head()"
   ]
  },
  {
   "cell_type": "code",
   "execution_count": 5,
   "metadata": {},
   "outputs": [],
   "source": [
    "base_uf = extracao('https://brasilapi.com.br/api/ibge/uf/v1','base_uf')"
   ]
  },
  {
   "cell_type": "code",
   "execution_count": 6,
   "metadata": {},
   "outputs": [
    {
     "data": {
      "text/html": [
       "<div>\n",
       "<style scoped>\n",
       "    .dataframe tbody tr th:only-of-type {\n",
       "        vertical-align: middle;\n",
       "    }\n",
       "\n",
       "    .dataframe tbody tr th {\n",
       "        vertical-align: top;\n",
       "    }\n",
       "\n",
       "    .dataframe thead th {\n",
       "        text-align: right;\n",
       "    }\n",
       "</style>\n",
       "<table border=\"1\" class=\"dataframe\">\n",
       "  <thead>\n",
       "    <tr style=\"text-align: right;\">\n",
       "      <th></th>\n",
       "      <th>id</th>\n",
       "      <th>sigla</th>\n",
       "      <th>nome</th>\n",
       "      <th>regiao</th>\n",
       "    </tr>\n",
       "  </thead>\n",
       "  <tbody>\n",
       "    <tr>\n",
       "      <th>0</th>\n",
       "      <td>11</td>\n",
       "      <td>RO</td>\n",
       "      <td>Rondônia</td>\n",
       "      <td>{'id': 1, 'sigla': 'N', 'nome': 'Norte'}</td>\n",
       "    </tr>\n",
       "    <tr>\n",
       "      <th>1</th>\n",
       "      <td>12</td>\n",
       "      <td>AC</td>\n",
       "      <td>Acre</td>\n",
       "      <td>{'id': 1, 'sigla': 'N', 'nome': 'Norte'}</td>\n",
       "    </tr>\n",
       "    <tr>\n",
       "      <th>2</th>\n",
       "      <td>13</td>\n",
       "      <td>AM</td>\n",
       "      <td>Amazonas</td>\n",
       "      <td>{'id': 1, 'sigla': 'N', 'nome': 'Norte'}</td>\n",
       "    </tr>\n",
       "    <tr>\n",
       "      <th>3</th>\n",
       "      <td>14</td>\n",
       "      <td>RR</td>\n",
       "      <td>Roraima</td>\n",
       "      <td>{'id': 1, 'sigla': 'N', 'nome': 'Norte'}</td>\n",
       "    </tr>\n",
       "    <tr>\n",
       "      <th>4</th>\n",
       "      <td>15</td>\n",
       "      <td>PA</td>\n",
       "      <td>Pará</td>\n",
       "      <td>{'id': 1, 'sigla': 'N', 'nome': 'Norte'}</td>\n",
       "    </tr>\n",
       "  </tbody>\n",
       "</table>\n",
       "</div>"
      ],
      "text/plain": [
       "   id sigla      nome                                    regiao\n",
       "0  11    RO  Rondônia  {'id': 1, 'sigla': 'N', 'nome': 'Norte'}\n",
       "1  12    AC      Acre  {'id': 1, 'sigla': 'N', 'nome': 'Norte'}\n",
       "2  13    AM  Amazonas  {'id': 1, 'sigla': 'N', 'nome': 'Norte'}\n",
       "3  14    RR   Roraima  {'id': 1, 'sigla': 'N', 'nome': 'Norte'}\n",
       "4  15    PA      Pará  {'id': 1, 'sigla': 'N', 'nome': 'Norte'}"
      ]
     },
     "execution_count": 6,
     "metadata": {},
     "output_type": "execute_result"
    }
   ],
   "source": [
    "base_uf.head()"
   ]
  },
  {
   "cell_type": "code",
   "execution_count": 7,
   "metadata": {},
   "outputs": [],
   "source": [
    "base_estado_sp = extracao('https://brasilapi.com.br/api/ibge/uf/v1/sp','base_estado_sp')"
   ]
  },
  {
   "cell_type": "code",
   "execution_count": 8,
   "metadata": {},
   "outputs": [
    {
     "data": {
      "text/html": [
       "<div>\n",
       "<style scoped>\n",
       "    .dataframe tbody tr th:only-of-type {\n",
       "        vertical-align: middle;\n",
       "    }\n",
       "\n",
       "    .dataframe tbody tr th {\n",
       "        vertical-align: top;\n",
       "    }\n",
       "\n",
       "    .dataframe thead th {\n",
       "        text-align: right;\n",
       "    }\n",
       "</style>\n",
       "<table border=\"1\" class=\"dataframe\">\n",
       "  <thead>\n",
       "    <tr style=\"text-align: right;\">\n",
       "      <th></th>\n",
       "      <th>id</th>\n",
       "      <th>sigla</th>\n",
       "      <th>nome</th>\n",
       "      <th>regiao</th>\n",
       "    </tr>\n",
       "  </thead>\n",
       "  <tbody>\n",
       "    <tr>\n",
       "      <th>id</th>\n",
       "      <td>35</td>\n",
       "      <td>SP</td>\n",
       "      <td>São Paulo</td>\n",
       "      <td>3</td>\n",
       "    </tr>\n",
       "    <tr>\n",
       "      <th>nome</th>\n",
       "      <td>35</td>\n",
       "      <td>SP</td>\n",
       "      <td>São Paulo</td>\n",
       "      <td>Sudeste</td>\n",
       "    </tr>\n",
       "    <tr>\n",
       "      <th>sigla</th>\n",
       "      <td>35</td>\n",
       "      <td>SP</td>\n",
       "      <td>São Paulo</td>\n",
       "      <td>SE</td>\n",
       "    </tr>\n",
       "  </tbody>\n",
       "</table>\n",
       "</div>"
      ],
      "text/plain": [
       "       id sigla       nome   regiao\n",
       "id     35    SP  São Paulo        3\n",
       "nome   35    SP  São Paulo  Sudeste\n",
       "sigla  35    SP  São Paulo       SE"
      ]
     },
     "execution_count": 8,
     "metadata": {},
     "output_type": "execute_result"
    }
   ],
   "source": [
    "base_estado_sp.head()"
   ]
  },
  {
   "cell_type": "code",
   "execution_count": 9,
   "metadata": {},
   "outputs": [],
   "source": [
    "base_pix = extracao('https://brasilapi.com.br/api/pix/v1/participants','base_pix')"
   ]
  },
  {
   "cell_type": "code",
   "execution_count": 10,
   "metadata": {},
   "outputs": [
    {
     "data": {
      "text/html": [
       "<div>\n",
       "<style scoped>\n",
       "    .dataframe tbody tr th:only-of-type {\n",
       "        vertical-align: middle;\n",
       "    }\n",
       "\n",
       "    .dataframe tbody tr th {\n",
       "        vertical-align: top;\n",
       "    }\n",
       "\n",
       "    .dataframe thead th {\n",
       "        text-align: right;\n",
       "    }\n",
       "</style>\n",
       "<table border=\"1\" class=\"dataframe\">\n",
       "  <thead>\n",
       "    <tr style=\"text-align: right;\">\n",
       "      <th></th>\n",
       "      <th>ispb</th>\n",
       "      <th>nome</th>\n",
       "      <th>nome_reduzido</th>\n",
       "      <th>modalidade_participacao</th>\n",
       "      <th>tipo_participacao</th>\n",
       "      <th>inicio_operacao</th>\n",
       "    </tr>\n",
       "  </thead>\n",
       "  <tbody>\n",
       "    <tr>\n",
       "      <th>0</th>\n",
       "      <td>00000000</td>\n",
       "      <td>BANCO DO BRASIL S.A.</td>\n",
       "      <td>BCO DO BRASIL S.A.</td>\n",
       "      <td>PDCT</td>\n",
       "      <td>DRCT</td>\n",
       "      <td>2020-11-03T09:30:00.000Z</td>\n",
       "    </tr>\n",
       "    <tr>\n",
       "      <th>1</th>\n",
       "      <td>00000208</td>\n",
       "      <td>BRB - BANCO DE BRASILIA S.A.</td>\n",
       "      <td>BRB - BCO DE BRASILIA S.A.</td>\n",
       "      <td>PDCT</td>\n",
       "      <td>DRCT</td>\n",
       "      <td>2020-11-03T09:30:00.000Z</td>\n",
       "    </tr>\n",
       "    <tr>\n",
       "      <th>2</th>\n",
       "      <td>00068987</td>\n",
       "      <td>COOPERATIVA DE CRÉDITO ARACREDI LTDA. - SICOOB...</td>\n",
       "      <td>CC ARACREDI LTDA.</td>\n",
       "      <td>PDCT</td>\n",
       "      <td>IDRT</td>\n",
       "      <td>2020-11-03T09:30:00.000Z</td>\n",
       "    </tr>\n",
       "    <tr>\n",
       "      <th>3</th>\n",
       "      <td>00075847</td>\n",
       "      <td>COOPERATIVA DE CRÉDITO UNICRED CENTRO-SUL LTDA...</td>\n",
       "      <td>CC UNICRED CENTRO-SUL LTDA - UNICRED CENTRO-SUL</td>\n",
       "      <td>PDCT</td>\n",
       "      <td>IDRT</td>\n",
       "      <td>2020-11-03T09:30:00.000Z</td>\n",
       "    </tr>\n",
       "    <tr>\n",
       "      <th>4</th>\n",
       "      <td>00106180</td>\n",
       "      <td>CENTRAL DAS COOPERATIVAS DE CRÉDITO DOS ESTADO...</td>\n",
       "      <td>CCC DOS EST DE MT, MS E MUN DE CACOAL/RO</td>\n",
       "      <td>PDCT</td>\n",
       "      <td>IDRT</td>\n",
       "      <td>2020-11-03T09:30:00.000Z</td>\n",
       "    </tr>\n",
       "  </tbody>\n",
       "</table>\n",
       "</div>"
      ],
      "text/plain": [
       "       ispb                                               nome  \\\n",
       "0  00000000                               BANCO DO BRASIL S.A.   \n",
       "1  00000208                       BRB - BANCO DE BRASILIA S.A.   \n",
       "2  00068987  COOPERATIVA DE CRÉDITO ARACREDI LTDA. - SICOOB...   \n",
       "3  00075847  COOPERATIVA DE CRÉDITO UNICRED CENTRO-SUL LTDA...   \n",
       "4  00106180  CENTRAL DAS COOPERATIVAS DE CRÉDITO DOS ESTADO...   \n",
       "\n",
       "                                     nome_reduzido modalidade_participacao  \\\n",
       "0                               BCO DO BRASIL S.A.                    PDCT   \n",
       "1                       BRB - BCO DE BRASILIA S.A.                    PDCT   \n",
       "2                                CC ARACREDI LTDA.                    PDCT   \n",
       "3  CC UNICRED CENTRO-SUL LTDA - UNICRED CENTRO-SUL                    PDCT   \n",
       "4         CCC DOS EST DE MT, MS E MUN DE CACOAL/RO                    PDCT   \n",
       "\n",
       "  tipo_participacao           inicio_operacao  \n",
       "0              DRCT  2020-11-03T09:30:00.000Z  \n",
       "1              DRCT  2020-11-03T09:30:00.000Z  \n",
       "2              IDRT  2020-11-03T09:30:00.000Z  \n",
       "3              IDRT  2020-11-03T09:30:00.000Z  \n",
       "4              IDRT  2020-11-03T09:30:00.000Z  "
      ]
     },
     "execution_count": 10,
     "metadata": {},
     "output_type": "execute_result"
    }
   ],
   "source": [
    "base_pix.head()"
   ]
  },
  {
   "cell_type": "markdown",
   "metadata": {},
   "source": [
    "Tratamento"
   ]
  },
  {
   "cell_type": "code",
   "execution_count": 11,
   "metadata": {},
   "outputs": [
    {
     "data": {
      "text/html": [
       "<div>\n",
       "<style scoped>\n",
       "    .dataframe tbody tr th:only-of-type {\n",
       "        vertical-align: middle;\n",
       "    }\n",
       "\n",
       "    .dataframe tbody tr th {\n",
       "        vertical-align: top;\n",
       "    }\n",
       "\n",
       "    .dataframe thead th {\n",
       "        text-align: right;\n",
       "    }\n",
       "</style>\n",
       "<table border=\"1\" class=\"dataframe\">\n",
       "  <thead>\n",
       "    <tr style=\"text-align: right;\">\n",
       "      <th></th>\n",
       "      <th>id</th>\n",
       "      <th>sigla</th>\n",
       "      <th>nome</th>\n",
       "      <th>regiao</th>\n",
       "    </tr>\n",
       "  </thead>\n",
       "  <tbody>\n",
       "    <tr>\n",
       "      <th>0</th>\n",
       "      <td>11</td>\n",
       "      <td>RO</td>\n",
       "      <td>Rondônia</td>\n",
       "      <td>{'id': 1, 'sigla': 'N', 'nome': 'Norte'}</td>\n",
       "    </tr>\n",
       "    <tr>\n",
       "      <th>1</th>\n",
       "      <td>12</td>\n",
       "      <td>AC</td>\n",
       "      <td>Acre</td>\n",
       "      <td>{'id': 1, 'sigla': 'N', 'nome': 'Norte'}</td>\n",
       "    </tr>\n",
       "    <tr>\n",
       "      <th>2</th>\n",
       "      <td>13</td>\n",
       "      <td>AM</td>\n",
       "      <td>Amazonas</td>\n",
       "      <td>{'id': 1, 'sigla': 'N', 'nome': 'Norte'}</td>\n",
       "    </tr>\n",
       "    <tr>\n",
       "      <th>3</th>\n",
       "      <td>14</td>\n",
       "      <td>RR</td>\n",
       "      <td>Roraima</td>\n",
       "      <td>{'id': 1, 'sigla': 'N', 'nome': 'Norte'}</td>\n",
       "    </tr>\n",
       "    <tr>\n",
       "      <th>4</th>\n",
       "      <td>15</td>\n",
       "      <td>PA</td>\n",
       "      <td>Pará</td>\n",
       "      <td>{'id': 1, 'sigla': 'N', 'nome': 'Norte'}</td>\n",
       "    </tr>\n",
       "  </tbody>\n",
       "</table>\n",
       "</div>"
      ],
      "text/plain": [
       "   id sigla      nome                                    regiao\n",
       "0  11    RO  Rondônia  {'id': 1, 'sigla': 'N', 'nome': 'Norte'}\n",
       "1  12    AC      Acre  {'id': 1, 'sigla': 'N', 'nome': 'Norte'}\n",
       "2  13    AM  Amazonas  {'id': 1, 'sigla': 'N', 'nome': 'Norte'}\n",
       "3  14    RR   Roraima  {'id': 1, 'sigla': 'N', 'nome': 'Norte'}\n",
       "4  15    PA      Pará  {'id': 1, 'sigla': 'N', 'nome': 'Norte'}"
      ]
     },
     "execution_count": 11,
     "metadata": {},
     "output_type": "execute_result"
    }
   ],
   "source": [
    "base_uf.head()"
   ]
  },
  {
   "cell_type": "code",
   "execution_count": 12,
   "metadata": {},
   "outputs": [],
   "source": [
    "sigla_regiao = [sr['sigla'] for sr in base_uf['regiao']]\n",
    "nome_regiao = [nr['nome'] for nr in base_uf['regiao']]\n",
    "sigla_estado = [estado for estado in base_uf['sigla']]\n",
    "nome_estado = [estado for estado in base_uf['nome']]"
   ]
  },
  {
   "cell_type": "code",
   "execution_count": 13,
   "metadata": {},
   "outputs": [],
   "source": [
    "base_uf_tratada = pd.DataFrame({'Sigla': sigla_estado, 'Nome': nome_estado, 'Sigla Região': sigla_regiao, 'Nome Região': nome_regiao})"
   ]
  },
  {
   "cell_type": "code",
   "execution_count": 14,
   "metadata": {},
   "outputs": [
    {
     "data": {
      "text/html": [
       "<div>\n",
       "<style scoped>\n",
       "    .dataframe tbody tr th:only-of-type {\n",
       "        vertical-align: middle;\n",
       "    }\n",
       "\n",
       "    .dataframe tbody tr th {\n",
       "        vertical-align: top;\n",
       "    }\n",
       "\n",
       "    .dataframe thead th {\n",
       "        text-align: right;\n",
       "    }\n",
       "</style>\n",
       "<table border=\"1\" class=\"dataframe\">\n",
       "  <thead>\n",
       "    <tr style=\"text-align: right;\">\n",
       "      <th></th>\n",
       "      <th>Sigla</th>\n",
       "      <th>Nome</th>\n",
       "      <th>Sigla Região</th>\n",
       "      <th>Nome Região</th>\n",
       "    </tr>\n",
       "  </thead>\n",
       "  <tbody>\n",
       "    <tr>\n",
       "      <th>0</th>\n",
       "      <td>RO</td>\n",
       "      <td>Rondônia</td>\n",
       "      <td>N</td>\n",
       "      <td>Norte</td>\n",
       "    </tr>\n",
       "    <tr>\n",
       "      <th>1</th>\n",
       "      <td>AC</td>\n",
       "      <td>Acre</td>\n",
       "      <td>N</td>\n",
       "      <td>Norte</td>\n",
       "    </tr>\n",
       "    <tr>\n",
       "      <th>2</th>\n",
       "      <td>AM</td>\n",
       "      <td>Amazonas</td>\n",
       "      <td>N</td>\n",
       "      <td>Norte</td>\n",
       "    </tr>\n",
       "    <tr>\n",
       "      <th>3</th>\n",
       "      <td>RR</td>\n",
       "      <td>Roraima</td>\n",
       "      <td>N</td>\n",
       "      <td>Norte</td>\n",
       "    </tr>\n",
       "    <tr>\n",
       "      <th>4</th>\n",
       "      <td>PA</td>\n",
       "      <td>Pará</td>\n",
       "      <td>N</td>\n",
       "      <td>Norte</td>\n",
       "    </tr>\n",
       "  </tbody>\n",
       "</table>\n",
       "</div>"
      ],
      "text/plain": [
       "  Sigla      Nome Sigla Região Nome Região\n",
       "0    RO  Rondônia            N       Norte\n",
       "1    AC      Acre            N       Norte\n",
       "2    AM  Amazonas            N       Norte\n",
       "3    RR   Roraima            N       Norte\n",
       "4    PA      Pará            N       Norte"
      ]
     },
     "execution_count": 14,
     "metadata": {},
     "output_type": "execute_result"
    }
   ],
   "source": [
    "base_uf_tratada.head()"
   ]
  },
  {
   "cell_type": "code",
   "execution_count": 15,
   "metadata": {},
   "outputs": [
    {
     "data": {
      "text/html": [
       "<div>\n",
       "<style scoped>\n",
       "    .dataframe tbody tr th:only-of-type {\n",
       "        vertical-align: middle;\n",
       "    }\n",
       "\n",
       "    .dataframe tbody tr th {\n",
       "        vertical-align: top;\n",
       "    }\n",
       "\n",
       "    .dataframe thead th {\n",
       "        text-align: right;\n",
       "    }\n",
       "</style>\n",
       "<table border=\"1\" class=\"dataframe\">\n",
       "  <thead>\n",
       "    <tr style=\"text-align: right;\">\n",
       "      <th></th>\n",
       "      <th>id</th>\n",
       "      <th>sigla</th>\n",
       "      <th>nome</th>\n",
       "      <th>regiao</th>\n",
       "    </tr>\n",
       "  </thead>\n",
       "  <tbody>\n",
       "    <tr>\n",
       "      <th>id</th>\n",
       "      <td>35</td>\n",
       "      <td>SP</td>\n",
       "      <td>São Paulo</td>\n",
       "      <td>3</td>\n",
       "    </tr>\n",
       "    <tr>\n",
       "      <th>nome</th>\n",
       "      <td>35</td>\n",
       "      <td>SP</td>\n",
       "      <td>São Paulo</td>\n",
       "      <td>Sudeste</td>\n",
       "    </tr>\n",
       "    <tr>\n",
       "      <th>sigla</th>\n",
       "      <td>35</td>\n",
       "      <td>SP</td>\n",
       "      <td>São Paulo</td>\n",
       "      <td>SE</td>\n",
       "    </tr>\n",
       "  </tbody>\n",
       "</table>\n",
       "</div>"
      ],
      "text/plain": [
       "       id sigla       nome   regiao\n",
       "id     35    SP  São Paulo        3\n",
       "nome   35    SP  São Paulo  Sudeste\n",
       "sigla  35    SP  São Paulo       SE"
      ]
     },
     "execution_count": 15,
     "metadata": {},
     "output_type": "execute_result"
    }
   ],
   "source": [
    "base_estado_sp.head()"
   ]
  },
  {
   "cell_type": "code",
   "execution_count": 16,
   "metadata": {},
   "outputs": [],
   "source": [
    "base_estado_sp_tratada = base_estado_sp.reset_index()"
   ]
  },
  {
   "cell_type": "code",
   "execution_count": 17,
   "metadata": {},
   "outputs": [
    {
     "data": {
      "text/html": [
       "<div>\n",
       "<style scoped>\n",
       "    .dataframe tbody tr th:only-of-type {\n",
       "        vertical-align: middle;\n",
       "    }\n",
       "\n",
       "    .dataframe tbody tr th {\n",
       "        vertical-align: top;\n",
       "    }\n",
       "\n",
       "    .dataframe thead th {\n",
       "        text-align: right;\n",
       "    }\n",
       "</style>\n",
       "<table border=\"1\" class=\"dataframe\">\n",
       "  <thead>\n",
       "    <tr style=\"text-align: right;\">\n",
       "      <th></th>\n",
       "      <th>index</th>\n",
       "      <th>id</th>\n",
       "      <th>sigla</th>\n",
       "      <th>nome</th>\n",
       "      <th>regiao</th>\n",
       "    </tr>\n",
       "  </thead>\n",
       "  <tbody>\n",
       "    <tr>\n",
       "      <th>0</th>\n",
       "      <td>id</td>\n",
       "      <td>35</td>\n",
       "      <td>SP</td>\n",
       "      <td>São Paulo</td>\n",
       "      <td>3</td>\n",
       "    </tr>\n",
       "    <tr>\n",
       "      <th>1</th>\n",
       "      <td>nome</td>\n",
       "      <td>35</td>\n",
       "      <td>SP</td>\n",
       "      <td>São Paulo</td>\n",
       "      <td>Sudeste</td>\n",
       "    </tr>\n",
       "    <tr>\n",
       "      <th>2</th>\n",
       "      <td>sigla</td>\n",
       "      <td>35</td>\n",
       "      <td>SP</td>\n",
       "      <td>São Paulo</td>\n",
       "      <td>SE</td>\n",
       "    </tr>\n",
       "  </tbody>\n",
       "</table>\n",
       "</div>"
      ],
      "text/plain": [
       "   index  id sigla       nome   regiao\n",
       "0     id  35    SP  São Paulo        3\n",
       "1   nome  35    SP  São Paulo  Sudeste\n",
       "2  sigla  35    SP  São Paulo       SE"
      ]
     },
     "execution_count": 17,
     "metadata": {},
     "output_type": "execute_result"
    }
   ],
   "source": [
    "base_estado_sp_tratada"
   ]
  },
  {
   "cell_type": "code",
   "execution_count": 18,
   "metadata": {},
   "outputs": [],
   "source": [
    "base_estado_sp_tratada1 = base_estado_sp_tratada[base_estado_sp_tratada['index'] == 'nome']"
   ]
  },
  {
   "cell_type": "code",
   "execution_count": 19,
   "metadata": {},
   "outputs": [
    {
     "data": {
      "text/html": [
       "<div>\n",
       "<style scoped>\n",
       "    .dataframe tbody tr th:only-of-type {\n",
       "        vertical-align: middle;\n",
       "    }\n",
       "\n",
       "    .dataframe tbody tr th {\n",
       "        vertical-align: top;\n",
       "    }\n",
       "\n",
       "    .dataframe thead th {\n",
       "        text-align: right;\n",
       "    }\n",
       "</style>\n",
       "<table border=\"1\" class=\"dataframe\">\n",
       "  <thead>\n",
       "    <tr style=\"text-align: right;\">\n",
       "      <th></th>\n",
       "      <th>index</th>\n",
       "      <th>id</th>\n",
       "      <th>sigla</th>\n",
       "      <th>nome</th>\n",
       "      <th>regiao</th>\n",
       "    </tr>\n",
       "  </thead>\n",
       "  <tbody>\n",
       "    <tr>\n",
       "      <th>1</th>\n",
       "      <td>nome</td>\n",
       "      <td>35</td>\n",
       "      <td>SP</td>\n",
       "      <td>São Paulo</td>\n",
       "      <td>Sudeste</td>\n",
       "    </tr>\n",
       "  </tbody>\n",
       "</table>\n",
       "</div>"
      ],
      "text/plain": [
       "  index  id sigla       nome   regiao\n",
       "1  nome  35    SP  São Paulo  Sudeste"
      ]
     },
     "execution_count": 19,
     "metadata": {},
     "output_type": "execute_result"
    }
   ],
   "source": [
    "base_estado_sp_tratada1"
   ]
  },
  {
   "cell_type": "code",
   "execution_count": 20,
   "metadata": {},
   "outputs": [
    {
     "data": {
      "text/html": [
       "<div>\n",
       "<style scoped>\n",
       "    .dataframe tbody tr th:only-of-type {\n",
       "        vertical-align: middle;\n",
       "    }\n",
       "\n",
       "    .dataframe tbody tr th {\n",
       "        vertical-align: top;\n",
       "    }\n",
       "\n",
       "    .dataframe thead th {\n",
       "        text-align: right;\n",
       "    }\n",
       "</style>\n",
       "<table border=\"1\" class=\"dataframe\">\n",
       "  <thead>\n",
       "    <tr style=\"text-align: right;\">\n",
       "      <th></th>\n",
       "      <th>ispb</th>\n",
       "      <th>nome</th>\n",
       "      <th>nome_reduzido</th>\n",
       "      <th>modalidade_participacao</th>\n",
       "      <th>tipo_participacao</th>\n",
       "      <th>inicio_operacao</th>\n",
       "    </tr>\n",
       "  </thead>\n",
       "  <tbody>\n",
       "    <tr>\n",
       "      <th>0</th>\n",
       "      <td>00000000</td>\n",
       "      <td>BANCO DO BRASIL S.A.</td>\n",
       "      <td>BCO DO BRASIL S.A.</td>\n",
       "      <td>PDCT</td>\n",
       "      <td>DRCT</td>\n",
       "      <td>2020-11-03T09:30:00.000Z</td>\n",
       "    </tr>\n",
       "    <tr>\n",
       "      <th>1</th>\n",
       "      <td>00000208</td>\n",
       "      <td>BRB - BANCO DE BRASILIA S.A.</td>\n",
       "      <td>BRB - BCO DE BRASILIA S.A.</td>\n",
       "      <td>PDCT</td>\n",
       "      <td>DRCT</td>\n",
       "      <td>2020-11-03T09:30:00.000Z</td>\n",
       "    </tr>\n",
       "    <tr>\n",
       "      <th>2</th>\n",
       "      <td>00068987</td>\n",
       "      <td>COOPERATIVA DE CRÉDITO ARACREDI LTDA. - SICOOB...</td>\n",
       "      <td>CC ARACREDI LTDA.</td>\n",
       "      <td>PDCT</td>\n",
       "      <td>IDRT</td>\n",
       "      <td>2020-11-03T09:30:00.000Z</td>\n",
       "    </tr>\n",
       "    <tr>\n",
       "      <th>3</th>\n",
       "      <td>00075847</td>\n",
       "      <td>COOPERATIVA DE CRÉDITO UNICRED CENTRO-SUL LTDA...</td>\n",
       "      <td>CC UNICRED CENTRO-SUL LTDA - UNICRED CENTRO-SUL</td>\n",
       "      <td>PDCT</td>\n",
       "      <td>IDRT</td>\n",
       "      <td>2020-11-03T09:30:00.000Z</td>\n",
       "    </tr>\n",
       "    <tr>\n",
       "      <th>4</th>\n",
       "      <td>00106180</td>\n",
       "      <td>CENTRAL DAS COOPERATIVAS DE CRÉDITO DOS ESTADO...</td>\n",
       "      <td>CCC DOS EST DE MT, MS E MUN DE CACOAL/RO</td>\n",
       "      <td>PDCT</td>\n",
       "      <td>IDRT</td>\n",
       "      <td>2020-11-03T09:30:00.000Z</td>\n",
       "    </tr>\n",
       "  </tbody>\n",
       "</table>\n",
       "</div>"
      ],
      "text/plain": [
       "       ispb                                               nome  \\\n",
       "0  00000000                               BANCO DO BRASIL S.A.   \n",
       "1  00000208                       BRB - BANCO DE BRASILIA S.A.   \n",
       "2  00068987  COOPERATIVA DE CRÉDITO ARACREDI LTDA. - SICOOB...   \n",
       "3  00075847  COOPERATIVA DE CRÉDITO UNICRED CENTRO-SUL LTDA...   \n",
       "4  00106180  CENTRAL DAS COOPERATIVAS DE CRÉDITO DOS ESTADO...   \n",
       "\n",
       "                                     nome_reduzido modalidade_participacao  \\\n",
       "0                               BCO DO BRASIL S.A.                    PDCT   \n",
       "1                       BRB - BCO DE BRASILIA S.A.                    PDCT   \n",
       "2                                CC ARACREDI LTDA.                    PDCT   \n",
       "3  CC UNICRED CENTRO-SUL LTDA - UNICRED CENTRO-SUL                    PDCT   \n",
       "4         CCC DOS EST DE MT, MS E MUN DE CACOAL/RO                    PDCT   \n",
       "\n",
       "  tipo_participacao           inicio_operacao  \n",
       "0              DRCT  2020-11-03T09:30:00.000Z  \n",
       "1              DRCT  2020-11-03T09:30:00.000Z  \n",
       "2              IDRT  2020-11-03T09:30:00.000Z  \n",
       "3              IDRT  2020-11-03T09:30:00.000Z  \n",
       "4              IDRT  2020-11-03T09:30:00.000Z  "
      ]
     },
     "execution_count": 20,
     "metadata": {},
     "output_type": "execute_result"
    }
   ],
   "source": [
    "base_pix.head()"
   ]
  },
  {
   "cell_type": "code",
   "execution_count": 21,
   "metadata": {},
   "outputs": [],
   "source": [
    "from datetime import datetime"
   ]
  },
  {
   "cell_type": "code",
   "execution_count": 22,
   "metadata": {},
   "outputs": [
    {
     "name": "stdout",
     "output_type": "stream",
     "text": [
      "<class 'pandas.core.frame.DataFrame'>\n",
      "RangeIndex: 798 entries, 0 to 797\n",
      "Data columns (total 6 columns):\n",
      " #   Column                   Non-Null Count  Dtype \n",
      "---  ------                   --------------  ----- \n",
      " 0   ispb                     798 non-null    object\n",
      " 1   nome                     798 non-null    object\n",
      " 2   nome_reduzido            798 non-null    object\n",
      " 3   modalidade_participacao  798 non-null    object\n",
      " 4   tipo_participacao        798 non-null    object\n",
      " 5   inicio_operacao          798 non-null    object\n",
      "dtypes: object(6)\n",
      "memory usage: 37.5+ KB\n"
     ]
    }
   ],
   "source": [
    "base_pix.info()"
   ]
  },
  {
   "cell_type": "code",
   "execution_count": 23,
   "metadata": {},
   "outputs": [],
   "source": [
    "base_pix['inicio_operacao'] = pd.to_datetime(base_pix['inicio_operacao'])"
   ]
  },
  {
   "cell_type": "code",
   "execution_count": 24,
   "metadata": {},
   "outputs": [
    {
     "name": "stdout",
     "output_type": "stream",
     "text": [
      "<class 'pandas.core.frame.DataFrame'>\n",
      "RangeIndex: 798 entries, 0 to 797\n",
      "Data columns (total 6 columns):\n",
      " #   Column                   Non-Null Count  Dtype              \n",
      "---  ------                   --------------  -----              \n",
      " 0   ispb                     798 non-null    object             \n",
      " 1   nome                     798 non-null    object             \n",
      " 2   nome_reduzido            798 non-null    object             \n",
      " 3   modalidade_participacao  798 non-null    object             \n",
      " 4   tipo_participacao        798 non-null    object             \n",
      " 5   inicio_operacao          798 non-null    datetime64[ns, UTC]\n",
      "dtypes: datetime64[ns, UTC](1), object(5)\n",
      "memory usage: 37.5+ KB\n"
     ]
    }
   ],
   "source": [
    "base_pix.info()"
   ]
  },
  {
   "cell_type": "code",
   "execution_count": 25,
   "metadata": {},
   "outputs": [
    {
     "data": {
      "text/html": [
       "<div>\n",
       "<style scoped>\n",
       "    .dataframe tbody tr th:only-of-type {\n",
       "        vertical-align: middle;\n",
       "    }\n",
       "\n",
       "    .dataframe tbody tr th {\n",
       "        vertical-align: top;\n",
       "    }\n",
       "\n",
       "    .dataframe thead th {\n",
       "        text-align: right;\n",
       "    }\n",
       "</style>\n",
       "<table border=\"1\" class=\"dataframe\">\n",
       "  <thead>\n",
       "    <tr style=\"text-align: right;\">\n",
       "      <th></th>\n",
       "      <th>ispb</th>\n",
       "      <th>nome</th>\n",
       "      <th>nome_reduzido</th>\n",
       "      <th>modalidade_participacao</th>\n",
       "      <th>tipo_participacao</th>\n",
       "      <th>inicio_operacao</th>\n",
       "    </tr>\n",
       "  </thead>\n",
       "  <tbody>\n",
       "    <tr>\n",
       "      <th>0</th>\n",
       "      <td>00000000</td>\n",
       "      <td>BANCO DO BRASIL S.A.</td>\n",
       "      <td>BCO DO BRASIL S.A.</td>\n",
       "      <td>PDCT</td>\n",
       "      <td>DRCT</td>\n",
       "      <td>2020-11-03 09:30:00+00:00</td>\n",
       "    </tr>\n",
       "    <tr>\n",
       "      <th>1</th>\n",
       "      <td>00000208</td>\n",
       "      <td>BRB - BANCO DE BRASILIA S.A.</td>\n",
       "      <td>BRB - BCO DE BRASILIA S.A.</td>\n",
       "      <td>PDCT</td>\n",
       "      <td>DRCT</td>\n",
       "      <td>2020-11-03 09:30:00+00:00</td>\n",
       "    </tr>\n",
       "    <tr>\n",
       "      <th>2</th>\n",
       "      <td>00068987</td>\n",
       "      <td>COOPERATIVA DE CRÉDITO ARACREDI LTDA. - SICOOB...</td>\n",
       "      <td>CC ARACREDI LTDA.</td>\n",
       "      <td>PDCT</td>\n",
       "      <td>IDRT</td>\n",
       "      <td>2020-11-03 09:30:00+00:00</td>\n",
       "    </tr>\n",
       "    <tr>\n",
       "      <th>3</th>\n",
       "      <td>00075847</td>\n",
       "      <td>COOPERATIVA DE CRÉDITO UNICRED CENTRO-SUL LTDA...</td>\n",
       "      <td>CC UNICRED CENTRO-SUL LTDA - UNICRED CENTRO-SUL</td>\n",
       "      <td>PDCT</td>\n",
       "      <td>IDRT</td>\n",
       "      <td>2020-11-03 09:30:00+00:00</td>\n",
       "    </tr>\n",
       "    <tr>\n",
       "      <th>4</th>\n",
       "      <td>00106180</td>\n",
       "      <td>CENTRAL DAS COOPERATIVAS DE CRÉDITO DOS ESTADO...</td>\n",
       "      <td>CCC DOS EST DE MT, MS E MUN DE CACOAL/RO</td>\n",
       "      <td>PDCT</td>\n",
       "      <td>IDRT</td>\n",
       "      <td>2020-11-03 09:30:00+00:00</td>\n",
       "    </tr>\n",
       "  </tbody>\n",
       "</table>\n",
       "</div>"
      ],
      "text/plain": [
       "       ispb                                               nome  \\\n",
       "0  00000000                               BANCO DO BRASIL S.A.   \n",
       "1  00000208                       BRB - BANCO DE BRASILIA S.A.   \n",
       "2  00068987  COOPERATIVA DE CRÉDITO ARACREDI LTDA. - SICOOB...   \n",
       "3  00075847  COOPERATIVA DE CRÉDITO UNICRED CENTRO-SUL LTDA...   \n",
       "4  00106180  CENTRAL DAS COOPERATIVAS DE CRÉDITO DOS ESTADO...   \n",
       "\n",
       "                                     nome_reduzido modalidade_participacao  \\\n",
       "0                               BCO DO BRASIL S.A.                    PDCT   \n",
       "1                       BRB - BCO DE BRASILIA S.A.                    PDCT   \n",
       "2                                CC ARACREDI LTDA.                    PDCT   \n",
       "3  CC UNICRED CENTRO-SUL LTDA - UNICRED CENTRO-SUL                    PDCT   \n",
       "4         CCC DOS EST DE MT, MS E MUN DE CACOAL/RO                    PDCT   \n",
       "\n",
       "  tipo_participacao           inicio_operacao  \n",
       "0              DRCT 2020-11-03 09:30:00+00:00  \n",
       "1              DRCT 2020-11-03 09:30:00+00:00  \n",
       "2              IDRT 2020-11-03 09:30:00+00:00  \n",
       "3              IDRT 2020-11-03 09:30:00+00:00  \n",
       "4              IDRT 2020-11-03 09:30:00+00:00  "
      ]
     },
     "execution_count": 25,
     "metadata": {},
     "output_type": "execute_result"
    }
   ],
   "source": [
    "base_pix.head()"
   ]
  },
  {
   "cell_type": "code",
   "execution_count": 26,
   "metadata": {},
   "outputs": [],
   "source": [
    "base_pix['inicio_operacao'] = base_pix['inicio_operacao'].dt.strftime(\"%d/%m/%Y\")"
   ]
  },
  {
   "cell_type": "code",
   "execution_count": 27,
   "metadata": {},
   "outputs": [
    {
     "data": {
      "text/html": [
       "<div>\n",
       "<style scoped>\n",
       "    .dataframe tbody tr th:only-of-type {\n",
       "        vertical-align: middle;\n",
       "    }\n",
       "\n",
       "    .dataframe tbody tr th {\n",
       "        vertical-align: top;\n",
       "    }\n",
       "\n",
       "    .dataframe thead th {\n",
       "        text-align: right;\n",
       "    }\n",
       "</style>\n",
       "<table border=\"1\" class=\"dataframe\">\n",
       "  <thead>\n",
       "    <tr style=\"text-align: right;\">\n",
       "      <th></th>\n",
       "      <th>ispb</th>\n",
       "      <th>nome</th>\n",
       "      <th>nome_reduzido</th>\n",
       "      <th>modalidade_participacao</th>\n",
       "      <th>tipo_participacao</th>\n",
       "      <th>inicio_operacao</th>\n",
       "    </tr>\n",
       "  </thead>\n",
       "  <tbody>\n",
       "    <tr>\n",
       "      <th>0</th>\n",
       "      <td>00000000</td>\n",
       "      <td>BANCO DO BRASIL S.A.</td>\n",
       "      <td>BCO DO BRASIL S.A.</td>\n",
       "      <td>PDCT</td>\n",
       "      <td>DRCT</td>\n",
       "      <td>03/11/2020</td>\n",
       "    </tr>\n",
       "    <tr>\n",
       "      <th>1</th>\n",
       "      <td>00000208</td>\n",
       "      <td>BRB - BANCO DE BRASILIA S.A.</td>\n",
       "      <td>BRB - BCO DE BRASILIA S.A.</td>\n",
       "      <td>PDCT</td>\n",
       "      <td>DRCT</td>\n",
       "      <td>03/11/2020</td>\n",
       "    </tr>\n",
       "    <tr>\n",
       "      <th>2</th>\n",
       "      <td>00068987</td>\n",
       "      <td>COOPERATIVA DE CRÉDITO ARACREDI LTDA. - SICOOB...</td>\n",
       "      <td>CC ARACREDI LTDA.</td>\n",
       "      <td>PDCT</td>\n",
       "      <td>IDRT</td>\n",
       "      <td>03/11/2020</td>\n",
       "    </tr>\n",
       "    <tr>\n",
       "      <th>3</th>\n",
       "      <td>00075847</td>\n",
       "      <td>COOPERATIVA DE CRÉDITO UNICRED CENTRO-SUL LTDA...</td>\n",
       "      <td>CC UNICRED CENTRO-SUL LTDA - UNICRED CENTRO-SUL</td>\n",
       "      <td>PDCT</td>\n",
       "      <td>IDRT</td>\n",
       "      <td>03/11/2020</td>\n",
       "    </tr>\n",
       "    <tr>\n",
       "      <th>4</th>\n",
       "      <td>00106180</td>\n",
       "      <td>CENTRAL DAS COOPERATIVAS DE CRÉDITO DOS ESTADO...</td>\n",
       "      <td>CCC DOS EST DE MT, MS E MUN DE CACOAL/RO</td>\n",
       "      <td>PDCT</td>\n",
       "      <td>IDRT</td>\n",
       "      <td>03/11/2020</td>\n",
       "    </tr>\n",
       "  </tbody>\n",
       "</table>\n",
       "</div>"
      ],
      "text/plain": [
       "       ispb                                               nome  \\\n",
       "0  00000000                               BANCO DO BRASIL S.A.   \n",
       "1  00000208                       BRB - BANCO DE BRASILIA S.A.   \n",
       "2  00068987  COOPERATIVA DE CRÉDITO ARACREDI LTDA. - SICOOB...   \n",
       "3  00075847  COOPERATIVA DE CRÉDITO UNICRED CENTRO-SUL LTDA...   \n",
       "4  00106180  CENTRAL DAS COOPERATIVAS DE CRÉDITO DOS ESTADO...   \n",
       "\n",
       "                                     nome_reduzido modalidade_participacao  \\\n",
       "0                               BCO DO BRASIL S.A.                    PDCT   \n",
       "1                       BRB - BCO DE BRASILIA S.A.                    PDCT   \n",
       "2                                CC ARACREDI LTDA.                    PDCT   \n",
       "3  CC UNICRED CENTRO-SUL LTDA - UNICRED CENTRO-SUL                    PDCT   \n",
       "4         CCC DOS EST DE MT, MS E MUN DE CACOAL/RO                    PDCT   \n",
       "\n",
       "  tipo_participacao inicio_operacao  \n",
       "0              DRCT      03/11/2020  \n",
       "1              DRCT      03/11/2020  \n",
       "2              IDRT      03/11/2020  \n",
       "3              IDRT      03/11/2020  \n",
       "4              IDRT      03/11/2020  "
      ]
     },
     "execution_count": 27,
     "metadata": {},
     "output_type": "execute_result"
    }
   ],
   "source": [
    "base_pix.head()"
   ]
  },
  {
   "cell_type": "markdown",
   "metadata": {},
   "source": [
    "Salvar em banco de dados"
   ]
  },
  {
   "cell_type": "code",
   "execution_count": 35,
   "metadata": {},
   "outputs": [
    {
     "ename": "ProgrammingError",
     "evalue": "Error binding parameter 4: type 'dict' is not supported",
     "output_type": "error",
     "traceback": [
      "\u001b[1;31m---------------------------------------------------------------------------\u001b[0m",
      "\u001b[1;31mProgrammingError\u001b[0m                          Traceback (most recent call last)",
      "\u001b[1;32mc:\\Users\\franc\\Documents\\CursoPython_Entregas\\projeto02_1.ipynb Cell 30\u001b[0m line \u001b[0;36m2\n\u001b[0;32m      <a href='vscode-notebook-cell:/c%3A/Users/franc/Documents/CursoPython_Entregas/projeto02_1.ipynb#X42sZmlsZQ%3D%3D?line=0'>1</a>\u001b[0m conn \u001b[39m=\u001b[39m sqlite3\u001b[39m.\u001b[39mconnect(\u001b[39m'\u001b[39m\u001b[39mbase_uf_tratada.db\u001b[39m\u001b[39m'\u001b[39m)\n\u001b[1;32m----> <a href='vscode-notebook-cell:/c%3A/Users/franc/Documents/CursoPython_Entregas/projeto02_1.ipynb#X42sZmlsZQ%3D%3D?line=1'>2</a>\u001b[0m base_uf\u001b[39m.\u001b[39;49mto_sql(\u001b[39m'\u001b[39;49m\u001b[39mbase_uf_tratada\u001b[39;49m\u001b[39m'\u001b[39;49m, conn, if_exists\u001b[39m=\u001b[39;49m\u001b[39m'\u001b[39;49m\u001b[39mreplace\u001b[39;49m\u001b[39m'\u001b[39;49m, index\u001b[39m=\u001b[39;49m\u001b[39mFalse\u001b[39;49;00m)\n\u001b[0;32m      <a href='vscode-notebook-cell:/c%3A/Users/franc/Documents/CursoPython_Entregas/projeto02_1.ipynb#X42sZmlsZQ%3D%3D?line=2'>3</a>\u001b[0m query \u001b[39m=\u001b[39m \u001b[39m\"\u001b[39m\u001b[39mSELECT * FROM base_uf_tratada\u001b[39m\u001b[39m\"\u001b[39m\n\u001b[0;32m      <a href='vscode-notebook-cell:/c%3A/Users/franc/Documents/CursoPython_Entregas/projeto02_1.ipynb#X42sZmlsZQ%3D%3D?line=3'>4</a>\u001b[0m df \u001b[39m=\u001b[39m pd\u001b[39m.\u001b[39mread_sql(query, conn)\n",
      "File \u001b[1;32mc:\\Users\\franc\\Documents\\CursoPython_Entregas\\meu_ambiente_virtual\\Lib\\site-packages\\pandas\\util\\_decorators.py:333\u001b[0m, in \u001b[0;36mdeprecate_nonkeyword_arguments.<locals>.decorate.<locals>.wrapper\u001b[1;34m(*args, **kwargs)\u001b[0m\n\u001b[0;32m    327\u001b[0m \u001b[39mif\u001b[39;00m \u001b[39mlen\u001b[39m(args) \u001b[39m>\u001b[39m num_allow_args:\n\u001b[0;32m    328\u001b[0m     warnings\u001b[39m.\u001b[39mwarn(\n\u001b[0;32m    329\u001b[0m         msg\u001b[39m.\u001b[39mformat(arguments\u001b[39m=\u001b[39m_format_argument_list(allow_args)),\n\u001b[0;32m    330\u001b[0m         \u001b[39mFutureWarning\u001b[39;00m,\n\u001b[0;32m    331\u001b[0m         stacklevel\u001b[39m=\u001b[39mfind_stack_level(),\n\u001b[0;32m    332\u001b[0m     )\n\u001b[1;32m--> 333\u001b[0m \u001b[39mreturn\u001b[39;00m func(\u001b[39m*\u001b[39;49margs, \u001b[39m*\u001b[39;49m\u001b[39m*\u001b[39;49mkwargs)\n",
      "File \u001b[1;32mc:\\Users\\franc\\Documents\\CursoPython_Entregas\\meu_ambiente_virtual\\Lib\\site-packages\\pandas\\core\\generic.py:3008\u001b[0m, in \u001b[0;36mNDFrame.to_sql\u001b[1;34m(self, name, con, schema, if_exists, index, index_label, chunksize, dtype, method)\u001b[0m\n\u001b[0;32m   2813\u001b[0m \u001b[39m\u001b[39m\u001b[39m\"\"\"\u001b[39;00m\n\u001b[0;32m   2814\u001b[0m \u001b[39mWrite records stored in a DataFrame to a SQL database.\u001b[39;00m\n\u001b[0;32m   2815\u001b[0m \n\u001b[1;32m   (...)\u001b[0m\n\u001b[0;32m   3004\u001b[0m \u001b[39m[(1,), (None,), (2,)]\u001b[39;00m\n\u001b[0;32m   3005\u001b[0m \u001b[39m\"\"\"\u001b[39;00m  \u001b[39m# noqa: E501\u001b[39;00m\n\u001b[0;32m   3006\u001b[0m \u001b[39mfrom\u001b[39;00m \u001b[39mpandas\u001b[39;00m\u001b[39m.\u001b[39;00m\u001b[39mio\u001b[39;00m \u001b[39mimport\u001b[39;00m sql\n\u001b[1;32m-> 3008\u001b[0m \u001b[39mreturn\u001b[39;00m sql\u001b[39m.\u001b[39;49mto_sql(\n\u001b[0;32m   3009\u001b[0m     \u001b[39mself\u001b[39;49m,\n\u001b[0;32m   3010\u001b[0m     name,\n\u001b[0;32m   3011\u001b[0m     con,\n\u001b[0;32m   3012\u001b[0m     schema\u001b[39m=\u001b[39;49mschema,\n\u001b[0;32m   3013\u001b[0m     if_exists\u001b[39m=\u001b[39;49mif_exists,\n\u001b[0;32m   3014\u001b[0m     index\u001b[39m=\u001b[39;49mindex,\n\u001b[0;32m   3015\u001b[0m     index_label\u001b[39m=\u001b[39;49mindex_label,\n\u001b[0;32m   3016\u001b[0m     chunksize\u001b[39m=\u001b[39;49mchunksize,\n\u001b[0;32m   3017\u001b[0m     dtype\u001b[39m=\u001b[39;49mdtype,\n\u001b[0;32m   3018\u001b[0m     method\u001b[39m=\u001b[39;49mmethod,\n\u001b[0;32m   3019\u001b[0m )\n",
      "File \u001b[1;32mc:\\Users\\franc\\Documents\\CursoPython_Entregas\\meu_ambiente_virtual\\Lib\\site-packages\\pandas\\io\\sql.py:788\u001b[0m, in \u001b[0;36mto_sql\u001b[1;34m(frame, name, con, schema, if_exists, index, index_label, chunksize, dtype, method, engine, **engine_kwargs)\u001b[0m\n\u001b[0;32m    783\u001b[0m     \u001b[39mraise\u001b[39;00m \u001b[39mNotImplementedError\u001b[39;00m(\n\u001b[0;32m    784\u001b[0m         \u001b[39m\"\u001b[39m\u001b[39m'\u001b[39m\u001b[39mframe\u001b[39m\u001b[39m'\u001b[39m\u001b[39m argument should be either a Series or a DataFrame\u001b[39m\u001b[39m\"\u001b[39m\n\u001b[0;32m    785\u001b[0m     )\n\u001b[0;32m    787\u001b[0m \u001b[39mwith\u001b[39;00m pandasSQL_builder(con, schema\u001b[39m=\u001b[39mschema, need_transaction\u001b[39m=\u001b[39m\u001b[39mTrue\u001b[39;00m) \u001b[39mas\u001b[39;00m pandas_sql:\n\u001b[1;32m--> 788\u001b[0m     \u001b[39mreturn\u001b[39;00m pandas_sql\u001b[39m.\u001b[39;49mto_sql(\n\u001b[0;32m    789\u001b[0m         frame,\n\u001b[0;32m    790\u001b[0m         name,\n\u001b[0;32m    791\u001b[0m         if_exists\u001b[39m=\u001b[39;49mif_exists,\n\u001b[0;32m    792\u001b[0m         index\u001b[39m=\u001b[39;49mindex,\n\u001b[0;32m    793\u001b[0m         index_label\u001b[39m=\u001b[39;49mindex_label,\n\u001b[0;32m    794\u001b[0m         schema\u001b[39m=\u001b[39;49mschema,\n\u001b[0;32m    795\u001b[0m         chunksize\u001b[39m=\u001b[39;49mchunksize,\n\u001b[0;32m    796\u001b[0m         dtype\u001b[39m=\u001b[39;49mdtype,\n\u001b[0;32m    797\u001b[0m         method\u001b[39m=\u001b[39;49mmethod,\n\u001b[0;32m    798\u001b[0m         engine\u001b[39m=\u001b[39;49mengine,\n\u001b[0;32m    799\u001b[0m         \u001b[39m*\u001b[39;49m\u001b[39m*\u001b[39;49mengine_kwargs,\n\u001b[0;32m    800\u001b[0m     )\n",
      "File \u001b[1;32mc:\\Users\\franc\\Documents\\CursoPython_Entregas\\meu_ambiente_virtual\\Lib\\site-packages\\pandas\\io\\sql.py:2441\u001b[0m, in \u001b[0;36mSQLiteDatabase.to_sql\u001b[1;34m(self, frame, name, if_exists, index, index_label, schema, chunksize, dtype, method, engine, **engine_kwargs)\u001b[0m\n\u001b[0;32m   2431\u001b[0m table \u001b[39m=\u001b[39m SQLiteTable(\n\u001b[0;32m   2432\u001b[0m     name,\n\u001b[0;32m   2433\u001b[0m     \u001b[39mself\u001b[39m,\n\u001b[1;32m   (...)\u001b[0m\n\u001b[0;32m   2438\u001b[0m     dtype\u001b[39m=\u001b[39mdtype,\n\u001b[0;32m   2439\u001b[0m )\n\u001b[0;32m   2440\u001b[0m table\u001b[39m.\u001b[39mcreate()\n\u001b[1;32m-> 2441\u001b[0m \u001b[39mreturn\u001b[39;00m table\u001b[39m.\u001b[39;49minsert(chunksize, method)\n",
      "File \u001b[1;32mc:\\Users\\franc\\Documents\\CursoPython_Entregas\\meu_ambiente_virtual\\Lib\\site-packages\\pandas\\io\\sql.py:1059\u001b[0m, in \u001b[0;36mSQLTable.insert\u001b[1;34m(self, chunksize, method)\u001b[0m\n\u001b[0;32m   1056\u001b[0m     \u001b[39mbreak\u001b[39;00m\n\u001b[0;32m   1058\u001b[0m chunk_iter \u001b[39m=\u001b[39m \u001b[39mzip\u001b[39m(\u001b[39m*\u001b[39m(arr[start_i:end_i] \u001b[39mfor\u001b[39;00m arr \u001b[39min\u001b[39;00m data_list))\n\u001b[1;32m-> 1059\u001b[0m num_inserted \u001b[39m=\u001b[39m exec_insert(conn, keys, chunk_iter)\n\u001b[0;32m   1060\u001b[0m \u001b[39m# GH 46891\u001b[39;00m\n\u001b[0;32m   1061\u001b[0m \u001b[39mif\u001b[39;00m num_inserted \u001b[39mis\u001b[39;00m \u001b[39mnot\u001b[39;00m \u001b[39mNone\u001b[39;00m:\n",
      "File \u001b[1;32mc:\\Users\\franc\\Documents\\CursoPython_Entregas\\meu_ambiente_virtual\\Lib\\site-packages\\pandas\\io\\sql.py:2137\u001b[0m, in \u001b[0;36mSQLiteTable._execute_insert\u001b[1;34m(self, conn, keys, data_iter)\u001b[0m\n\u001b[0;32m   2135\u001b[0m \u001b[39mdef\u001b[39;00m \u001b[39m_execute_insert\u001b[39m(\u001b[39mself\u001b[39m, conn, keys, data_iter) \u001b[39m-\u001b[39m\u001b[39m>\u001b[39m \u001b[39mint\u001b[39m:\n\u001b[0;32m   2136\u001b[0m     data_list \u001b[39m=\u001b[39m \u001b[39mlist\u001b[39m(data_iter)\n\u001b[1;32m-> 2137\u001b[0m     conn\u001b[39m.\u001b[39;49mexecutemany(\u001b[39mself\u001b[39;49m\u001b[39m.\u001b[39;49minsert_statement(num_rows\u001b[39m=\u001b[39;49m\u001b[39m1\u001b[39;49m), data_list)\n\u001b[0;32m   2138\u001b[0m     \u001b[39mreturn\u001b[39;00m conn\u001b[39m.\u001b[39mrowcount\n",
      "\u001b[1;31mProgrammingError\u001b[0m: Error binding parameter 4: type 'dict' is not supported"
     ]
    }
   ],
   "source": [
    "conn = sqlite3.connect('base_uf_tratada.db')\n",
    "base_uf.to_sql('base_uf_tratada', conn, if_exists='replace', index=False)\n",
    "query = \"SELECT * FROM base_uf_tratada\"\n",
    "df = pd.read_sql(query, conn)\n",
    "print(df)\n",
    "\n",
    "conn.close()"
   ]
  },
  {
   "cell_type": "code",
   "execution_count": 36,
   "metadata": {},
   "outputs": [
    {
     "name": "stdout",
     "output_type": "stream",
     "text": [
      "<class 'pandas.core.frame.DataFrame'>\n",
      "RangeIndex: 27 entries, 0 to 26\n",
      "Data columns (total 4 columns):\n",
      " #   Column  Non-Null Count  Dtype \n",
      "---  ------  --------------  ----- \n",
      " 0   id      27 non-null     int64 \n",
      " 1   sigla   27 non-null     object\n",
      " 2   nome    27 non-null     object\n",
      " 3   regiao  27 non-null     object\n",
      "dtypes: int64(1), object(3)\n",
      "memory usage: 996.0+ bytes\n"
     ]
    }
   ],
   "source": [
    "base_uf.info()"
   ]
  },
  {
   "cell_type": "code",
   "execution_count": 32,
   "metadata": {},
   "outputs": [
    {
     "name": "stdout",
     "output_type": "stream",
     "text": [
      "                 nome codigo_ibge\n",
      "0          ADAMANTINA     3500105\n",
      "1              ADOLFO     3500204\n",
      "2               AGUAI     3500303\n",
      "3      AGUAS DA PRATA     3500402\n",
      "4    AGUAS DE LINDOIA     3500501\n",
      "..                ...         ...\n",
      "640        VOTORANTIM     3557006\n",
      "641       VOTUPORANGA     3557105\n",
      "642          ZACARIAS     3557154\n",
      "643         CHAVANTES     3557204\n",
      "644      ESTIVA GERBI     3557303\n",
      "\n",
      "[645 rows x 2 columns]\n"
     ]
    }
   ],
   "source": [
    "conn = sqlite3.connect('base_municipios.db')\n",
    "base_municipios.to_sql('base_municipios', conn, if_exists='replace', index=False)\n",
    "query = \"SELECT * FROM base_municipios\"\n",
    "df = pd.read_sql(query, conn)\n",
    "print(df)\n",
    "\n",
    "conn.close()"
   ]
  },
  {
   "cell_type": "code",
   "execution_count": 33,
   "metadata": {},
   "outputs": [
    {
     "name": "stdout",
     "output_type": "stream",
     "text": [
      "   id sigla       nome   regiao\n",
      "0  35    SP  São Paulo        3\n",
      "1  35    SP  São Paulo  Sudeste\n",
      "2  35    SP  São Paulo       SE\n"
     ]
    }
   ],
   "source": [
    "conn = sqlite3.connect('base_estado_sp_tratada1.db')\n",
    "base_estado_sp.to_sql('base_estado_sp_tratada1', conn, if_exists='replace', index=False)\n",
    "query = \"SELECT * FROM base_estado_sp_tratada1\"\n",
    "df = pd.read_sql(query, conn)\n",
    "print(df)\n",
    "\n",
    "conn.close()"
   ]
  },
  {
   "cell_type": "code",
   "execution_count": 34,
   "metadata": {},
   "outputs": [
    {
     "name": "stdout",
     "output_type": "stream",
     "text": [
      "         ispb                                               nome  \\\n",
      "0    00000000                               BANCO DO BRASIL S.A.   \n",
      "1    00000208                       BRB - BANCO DE BRASILIA S.A.   \n",
      "2    00068987  COOPERATIVA DE CRÉDITO ARACREDI LTDA. - SICOOB...   \n",
      "3    00075847  COOPERATIVA DE CRÉDITO UNICRED CENTRO-SUL LTDA...   \n",
      "4    00106180  CENTRAL DAS COOPERATIVAS DE CRÉDITO DOS ESTADO...   \n",
      "..        ...                                                ...   \n",
      "793  95213211  COOPERATIVA DE CRéDITO, POUPANçA E INVESTIMENT...   \n",
      "794  95424891  COOPERATIVA DE CRÉDITO, POUPANÇA E INVESTIMENT...   \n",
      "795  95594941  COOPERATIVA DE CRÉDITO, POUPANÇA E INVESTIMENT...   \n",
      "796  97259253  COOPERATIVA E ECONOMIA E CRÉDITO MÚTUO DOS MÉD...   \n",
      "797  97489280  COOPERATIVA DE CRÉDITO, POUPANÇA E INVESTIMENT...   \n",
      "\n",
      "                                         nome_reduzido  \\\n",
      "0                                   BCO DO BRASIL S.A.   \n",
      "1                           BRB - BCO DE BRASILIA S.A.   \n",
      "2                                    CC ARACREDI LTDA.   \n",
      "3      CC UNICRED CENTRO-SUL LTDA - UNICRED CENTRO-SUL   \n",
      "4             CCC DOS EST DE MT, MS E MUN DE CACOAL/RO   \n",
      "..                                                 ...   \n",
      "793                  COOP SICREDI CAMINHO DAS ÁGUAS RS   \n",
      "794                     COOP SICREDI VALE DO RIO PARDO   \n",
      "795                      COOP SICREDI REG CENTRO RS/MG   \n",
      "796  CECM MÉDICOS PLANALTO MÉDIO RS - CREDISIS/CRED...   \n",
      "797                      COOP SICREDI INTEGRAÇÃO BAHIA   \n",
      "\n",
      "    modalidade_participacao tipo_participacao inicio_operacao  \n",
      "0                      PDCT              DRCT      03/11/2020  \n",
      "1                      PDCT              DRCT      03/11/2020  \n",
      "2                      PDCT              IDRT      03/11/2020  \n",
      "3                      PDCT              IDRT      03/11/2020  \n",
      "4                      PDCT              IDRT      03/11/2020  \n",
      "..                      ...               ...             ...  \n",
      "793                    PDCT              IDRT      03/11/2020  \n",
      "794                    PDCT              IDRT      03/11/2020  \n",
      "795                    PDCT              IDRT      03/11/2020  \n",
      "796                    PDCT              IDRT      04/10/2021  \n",
      "797                    PDCT              IDRT      03/11/2020  \n",
      "\n",
      "[798 rows x 6 columns]\n"
     ]
    }
   ],
   "source": [
    "conn = sqlite3.connect('base_pix.db')\n",
    "base_pix.to_sql('base_pix', conn, if_exists='replace', index=False)\n",
    "query = \"SELECT * FROM base_pix\"\n",
    "df = pd.read_sql(query, conn)\n",
    "print(df)\n",
    "\n",
    "conn.close()"
   ]
  }
 ],
 "metadata": {
  "kernelspec": {
   "display_name": "Python 3",
   "language": "python",
   "name": "python3"
  },
  "language_info": {
   "codemirror_mode": {
    "name": "ipython",
    "version": 3
   },
   "file_extension": ".py",
   "mimetype": "text/x-python",
   "name": "python",
   "nbconvert_exporter": "python",
   "pygments_lexer": "ipython3",
   "version": "3.11.4"
  },
  "orig_nbformat": 4
 },
 "nbformat": 4,
 "nbformat_minor": 2
}
